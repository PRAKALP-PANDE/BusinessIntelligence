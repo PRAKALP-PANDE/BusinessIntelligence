{
 "cells": [
  {
   "cell_type": "code",
   "execution_count": 21,
   "id": "53f170c7",
   "metadata": {},
   "outputs": [],
   "source": [
    "def mapreducer(file, targetword):\n",
    "    wordcount = 0;\n",
    "    with open(file, 'r') as file:\n",
    "        mappeddata = [(word.lower(),1) for line in file for word in line.strip().split() ]\n",
    "        \n",
    "    for word, count in mappeddata:\n",
    "        if word == targetword.lower():\n",
    "            wordcount+= 1;\n",
    "    return wordcount;\n",
    "    \n",
    "frequency = mapreducer('file.txt', 'is')"
   ]
  },
  {
   "cell_type": "code",
   "execution_count": 22,
   "id": "e20c0564",
   "metadata": {},
   "outputs": [
    {
     "name": "stdout",
     "output_type": "stream",
     "text": [
      "2\n"
     ]
    }
   ],
   "source": [
    "print(frequency)"
   ]
  },
  {
   "cell_type": "code",
   "execution_count": null,
   "id": "5bd87361",
   "metadata": {},
   "outputs": [],
   "source": []
  }
 ],
 "metadata": {
  "kernelspec": {
   "display_name": "Python 3 (ipykernel)",
   "language": "python",
   "name": "python3"
  },
  "language_info": {
   "codemirror_mode": {
    "name": "ipython",
    "version": 3
   },
   "file_extension": ".py",
   "mimetype": "text/x-python",
   "name": "python",
   "nbconvert_exporter": "python",
   "pygments_lexer": "ipython3",
   "version": "3.11.5"
  }
 },
 "nbformat": 4,
 "nbformat_minor": 5
}
