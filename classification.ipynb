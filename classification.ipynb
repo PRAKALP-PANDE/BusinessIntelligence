{
 "cells": [
  {
   "cell_type": "code",
   "execution_count": 1,
   "id": "4e2ac2ae",
   "metadata": {},
   "outputs": [
    {
     "data": {
      "text/plain": [
       "0.9666666666666667"
      ]
     },
     "execution_count": 1,
     "metadata": {},
     "output_type": "execute_result"
    }
   ],
   "source": [
    "from sklearn.datasets import load_iris\n",
    "from sklearn.model_selection import train_test_split\n",
    "from sklearn.preprocessing import StandardScaler\n",
    "from sklearn.linear_model import LogisticRegression\n",
    "from sklearn.metrics import accuracy_score, classification_report\n",
    "\n",
    "iris = load_iris()\n",
    "\n",
    "x = iris.data\n",
    "\n",
    "y = iris.target\n",
    "\n",
    "xtrain, xtest, ytrain, yest = train_test_split(x, y, test_size = 0.2, random_state = 41)\n",
    "\n",
    "sc = StandardScaler()\n",
    "xtrainsc = sc.fit_transform(xtrain)\n",
    "xtestsc = sc.fit_transform(xtest)\n",
    "\n",
    "reg = LogisticRegression()\n",
    "reg.fit(xtrainsc, ytrain)\n",
    "\n",
    "ytrainpred = reg.predict(xtrainsc)\n",
    "\n",
    "ytestpred = reg.predict(xtestsc)\n",
    "\n",
    "ta = accuracy_score(ytrainpred, ytrain)\n",
    "\n",
    "ta"
   ]
  }
 ],
 "metadata": {
  "kernelspec": {
   "display_name": "Python 3 (ipykernel)",
   "language": "python",
   "name": "python3"
  },
  "language_info": {
   "codemirror_mode": {
    "name": "ipython",
    "version": 3
   },
   "file_extension": ".py",
   "mimetype": "text/x-python",
   "name": "python",
   "nbconvert_exporter": "python",
   "pygments_lexer": "ipython3",
   "version": "3.11.5"
  }
 },
 "nbformat": 4,
 "nbformat_minor": 5
}
