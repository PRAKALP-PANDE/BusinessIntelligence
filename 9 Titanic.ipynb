{
 "cells": [
  {
   "cell_type": "code",
   "execution_count": null,
   "id": "d439e371",
   "metadata": {},
   "outputs": [],
   "source": []
  },
  {
   "cell_type": "code",
   "execution_count": 1,
   "id": "50d863d6",
   "metadata": {},
   "outputs": [
    {
     "name": "stdout",
     "output_type": "stream",
     "text": [
      "Average age of males who died: 30.63\n",
      "Number of deceased females in each class:\n",
      "Pclass\n",
      "3    72\n",
      "2     6\n",
      "1     3\n",
      "Name: count, dtype: int64\n"
     ]
    }
   ],
   "source": [
    "import pandas as pd\n",
    "def mapreduce(file):\n",
    "    df = pd.read_csv(file)\n",
    "    dmales = df[df['Survived'] == 0 & (df['Sex'] == 'male')]\n",
    "    \n",
    "    average_age_deceased_males = dmales[\"Age\"].mean()\n",
    "    deceased_females_by_class = df[(df['Survived'] == 0) & (df['Sex'] == 'female')] \n",
    "    \n",
    "    count_deceased_females_by_class = deceased_females_by_class['Pclass'].value_counts()\n",
    "    return average_age_deceased_males, count_deceased_females_by_class\n",
    "\n",
    "input_file = \"C:/Users/Prakalp/Downloads/archive (2)/Titanic-Dataset.csv\" # Update this to the path of your Titanic dataset CSV file\n",
    "average_age, female_class_count = mapreduce(input_file)\n",
    "print(f\"Average age of males who died: {average_age:.2f}\")\n",
    "print(\"Number of deceased females in each class:\")\n",
    "print(female_class_count)"
   ]
  },
  {
   "cell_type": "code",
   "execution_count": null,
   "id": "fd3c2b69",
   "metadata": {},
   "outputs": [],
   "source": []
  },
  {
   "cell_type": "code",
   "execution_count": null,
   "id": "cddfca90",
   "metadata": {},
   "outputs": [],
   "source": []
  }
 ],
 "metadata": {
  "kernelspec": {
   "display_name": "Python 3 (ipykernel)",
   "language": "python",
   "name": "python3"
  },
  "language_info": {
   "codemirror_mode": {
    "name": "ipython",
    "version": 3
   },
   "file_extension": ".py",
   "mimetype": "text/x-python",
   "name": "python",
   "nbconvert_exporter": "python",
   "pygments_lexer": "ipython3",
   "version": "3.11.5"
  }
 },
 "nbformat": 4,
 "nbformat_minor": 5
}
