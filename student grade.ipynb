{
 "cells": [
  {
   "cell_type": "code",
   "execution_count": 30,
   "id": "d02f8dc8",
   "metadata": {},
   "outputs": [
    {
     "name": "stdout",
     "output_type": "stream",
     "text": [
      "student 1 has passed with grade A\n",
      "student 2 has passed with grade B\n",
      "student 3 has passed with grade C\n"
     ]
    }
   ],
   "source": [
    "from collections import defaultdict\n",
    "\n",
    "def mapfun(studentscore):\n",
    "    for studentid, score in studentscore:\n",
    "        yield studentid, score\n",
    "        \n",
    "def reducerfun(mapdata):\n",
    "    grades = {}\n",
    "    for studentid, score in mapdata:\n",
    "        if score > 80:\n",
    "            grade = 'A'\n",
    "        \n",
    "        elif score > 70:\n",
    "            grade = 'B'\n",
    "            \n",
    "        elif score > 60:\n",
    "            grade = 'C'\n",
    "            \n",
    "        else:\n",
    "            grade = 'D'\n",
    "            \n",
    "        grades[studentid] = grade\n",
    "    return grades\n",
    "\n",
    "def mapred(studentscore):\n",
    "    mapdata = list(mapfun(studentscore))\n",
    "    \n",
    "    grades = reducerfun(mapdata)\n",
    "    \n",
    "    return grades\n",
    "\n",
    "studentscore = [\n",
    "    (1, 87), (2, 77), (3, 66)\n",
    "]\n",
    "\n",
    "grades = mapred(studentscore)\n",
    "\n",
    "for studentid, grade in grades.items():\n",
    "    print(f\"student {studentid} has passed with grade {grade}\")"
   ]
  },
  {
   "cell_type": "code",
   "execution_count": 28,
   "id": "ea22ccdb",
   "metadata": {},
   "outputs": [
    {
     "name": "stdout",
     "output_type": "stream",
     "text": [
      "student 1 has passed with grade A\n",
      "student 2 has passed with grade B\n",
      "student 3 has passed with grade C\n"
     ]
    }
   ],
   "source": []
  },
  {
   "cell_type": "code",
   "execution_count": 31,
   "id": "92d6688a",
   "metadata": {},
   "outputs": [
    {
     "name": "stdout",
     "output_type": "stream",
     "text": [
      "Student 1 has passed with grade A\n",
      "Student 2 has passed with grade B\n",
      "Student 3 has passed with grade C\n"
     ]
    }
   ],
   "source": [
    "def assign_grade(score):\n",
    "    if score > 80:\n",
    "        return 'A'\n",
    "    elif score > 70:\n",
    "        return 'B'\n",
    "    elif score > 60:\n",
    "        return 'C'\n",
    "    else:\n",
    "        return 'D'\n",
    "\n",
    "studentscore = {\n",
    "    1: 87,\n",
    "    2: 77,\n",
    "    3: 66\n",
    "}\n",
    "\n",
    "grades = {studentid: assign_grade(score) for studentid, score in studentscore.items()}\n",
    "\n",
    "for studentid, grade in grades.items():\n",
    "    print(f\"Student {studentid} has passed with grade {grade}\")\n"
   ]
  },
  {
   "cell_type": "code",
   "execution_count": 32,
   "id": "c058f9e6",
   "metadata": {},
   "outputs": [],
   "source": [
    "def sss(score):\n",
    "    if score > 80:\n",
    "        return 'A'\n",
    "    elif score > 70:\n",
    "        return 'B'\n",
    "    elif score > 60:\n",
    "        return 'C'\n",
    "    else:\n",
    "        return 'D'\n",
    "\n",
    "studentscore = {\n",
    "    1: 87,\n",
    "    2: 77,\n",
    "    3: 66\n",
    "}\n",
    "\n",
    "grades = {studentid: sss(score) for studentid, score in studentscore.items()}"
   ]
  },
  {
   "cell_type": "code",
   "execution_count": 33,
   "id": "734bd61a",
   "metadata": {},
   "outputs": [
    {
     "name": "stdout",
     "output_type": "stream",
     "text": [
      "student 1 pass with A grade\n",
      "student 2 pass with B grade\n",
      "student 3 pass with C grade\n"
     ]
    }
   ],
   "source": [
    "for studentid, score in grades.items():\n",
    "    print(f\"student {studentid} pass with {score} grade\")"
   ]
  },
  {
   "cell_type": "code",
   "execution_count": 43,
   "id": "8223ce2f",
   "metadata": {},
   "outputs": [],
   "source": [
    "def marks(score):\n",
    "    if score > 80:\n",
    "        return 'A'\n",
    "    elif score > 60:\n",
    "        return 'B'\n",
    "    elif score > 50:\n",
    "        return 'C'\n",
    "    else:\n",
    "        return 'D'"
   ]
  },
  {
   "cell_type": "code",
   "execution_count": 44,
   "id": "0786fff6",
   "metadata": {},
   "outputs": [],
   "source": [
    "student = {\n",
    "    1: 90, 2:77, 3:33\n",
    "}"
   ]
  },
  {
   "cell_type": "code",
   "execution_count": 47,
   "id": "fda142c9",
   "metadata": {},
   "outputs": [],
   "source": [
    "grades = {studentid: marks(score) for studentid, score in student.items()}"
   ]
  },
  {
   "cell_type": "code",
   "execution_count": 48,
   "id": "dec9a818",
   "metadata": {},
   "outputs": [
    {
     "name": "stdout",
     "output_type": "stream",
     "text": [
      "student1 pass A\n",
      "student2 pass B\n",
      "student3 pass D\n"
     ]
    }
   ],
   "source": [
    "for studentid, score in grades.items():\n",
    "    print(f\"student{studentid} pass {score}\")"
   ]
  },
  {
   "cell_type": "code",
   "execution_count": null,
   "id": "1f26b27f",
   "metadata": {},
   "outputs": [],
   "source": []
  }
 ],
 "metadata": {
  "kernelspec": {
   "display_name": "Python 3 (ipykernel)",
   "language": "python",
   "name": "python3"
  },
  "language_info": {
   "codemirror_mode": {
    "name": "ipython",
    "version": 3
   },
   "file_extension": ".py",
   "mimetype": "text/x-python",
   "name": "python",
   "nbconvert_exporter": "python",
   "pygments_lexer": "ipython3",
   "version": "3.11.5"
  }
 },
 "nbformat": 4,
 "nbformat_minor": 5
}
